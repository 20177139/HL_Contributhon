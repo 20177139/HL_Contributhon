{
  "nbformat": 4,
  "nbformat_minor": 0,
  "metadata": {
    "colab": {
      "name": "keras_deeplearning.ipynb",
      "version": "0.3.2",
      "provenance": [],
      "collapsed_sections": [],
      "include_colab_link": true
    },
    "kernelspec": {
      "name": "python3",
      "display_name": "Python 3"
    }
  },
  "cells": [
    {
      "cell_type": "markdown",
      "metadata": {
        "id": "view-in-github",
        "colab_type": "text"
      },
      "source": [
        "<a href=\"https://colab.research.google.com/github/Hallym-OpenSourceSW/HL_Contributhon/blob/master/06_Keras_DeepLearning/keras_deeplearning.ipynb\" target=\"_parent\"><img src=\"https://colab.research.google.com/assets/colab-badge.svg\" alt=\"Open In Colab\"/></a>"
      ]
    },
    {
      "cell_type": "markdown",
      "metadata": {
        "id": "KHaXOABpPeEr",
        "colab_type": "text"
      },
      "source": [
        "우선 Github로 부터 Keras Deep Learning 화일을 받습니다!"
      ]
    },
    {
      "cell_type": "code",
      "metadata": {
        "id": "Ie1O5EzLN4Dg",
        "colab_type": "code",
        "colab": {
          "base_uri": "https://localhost:8080/",
          "height": 125
        },
        "outputId": "be97fd19-8fe3-4250-9560-e17145df3744"
      },
      "source": [
        "!git clone https://github.com/Hallym-OpenSourceSW/Keras_DeepLearning"
      ],
      "execution_count": 3,
      "outputs": [
        {
          "output_type": "stream",
          "text": [
            "Cloning into 'Keras_DeepLearning'...\n",
            "remote: Enumerating objects: 6, done.\u001b[K\n",
            "remote: Counting objects: 100% (6/6), done.\u001b[K\n",
            "remote: Compressing objects: 100% (5/5), done.\u001b[K\n",
            "remote: Total 6 (delta 0), reused 0 (delta 0), pack-reused 0\u001b[K\n",
            "Unpacking objects: 100% (6/6), done.\n"
          ],
          "name": "stdout"
        }
      ]
    },
    {
      "cell_type": "markdown",
      "metadata": {
        "id": "_lcrY6KQPms5",
        "colab_type": "text"
      },
      "source": [
        "!ls 명령어를 통하여 git clone 명령어가 제대로 작동되었는지 확인할 수 있습니다."
      ]
    },
    {
      "cell_type": "code",
      "metadata": {
        "id": "h5PHAi1sOCP8",
        "colab_type": "code",
        "colab": {
          "base_uri": "https://localhost:8080/",
          "height": 35
        },
        "outputId": "66f216e2-073d-4f87-8578-f99a27ad0f70"
      },
      "source": [
        "!ls"
      ],
      "execution_count": 4,
      "outputs": [
        {
          "output_type": "stream",
          "text": [
            "Keras_DeepLearning  sample_data\n"
          ],
          "name": "stdout"
        }
      ]
    },
    {
      "cell_type": "markdown",
      "metadata": {
        "id": "HGzmDNFlPuIM",
        "colab_type": "text"
      },
      "source": [
        "%cd 명령어를 통하여 다운로드된 Keras_DeepLearning 디렉토리로 이동합니다."
      ]
    },
    {
      "cell_type": "code",
      "metadata": {
        "id": "56QJmmqGOFXj",
        "colab_type": "code",
        "colab": {
          "base_uri": "https://localhost:8080/",
          "height": 35
        },
        "outputId": "28355953-b9cb-4b06-bd85-eaca4841ba00"
      },
      "source": [
        "%cd Keras_DeepLearning"
      ],
      "execution_count": 7,
      "outputs": [
        {
          "output_type": "stream",
          "text": [
            "/content/Keras_DeepLearning\n"
          ],
          "name": "stdout"
        }
      ]
    },
    {
      "cell_type": "markdown",
      "metadata": {
        "id": "wEq9-DKpP0OT",
        "colab_type": "text"
      },
      "source": [
        "Keras_DeepLearning 디렉토리에 있는 화일을 !ls 명령어를 통하여 확입합니다."
      ]
    },
    {
      "cell_type": "code",
      "metadata": {
        "id": "oCQOxulzOZYz",
        "colab_type": "code",
        "colab": {
          "base_uri": "https://localhost:8080/",
          "height": 35
        },
        "outputId": "b9f8e74e-0f6d-46ea-9c62-4b7f06272a07"
      },
      "source": [
        "!ls"
      ],
      "execution_count": 8,
      "outputs": [
        {
          "output_type": "stream",
          "text": [
            "keras_cifar10.py  README.md\n"
          ],
          "name": "stdout"
        }
      ]
    },
    {
      "cell_type": "code",
      "metadata": {
        "id": "fkf0kBIjOaR7",
        "colab_type": "code",
        "colab": {
          "base_uri": "https://localhost:8080/",
          "height": 35
        },
        "outputId": "4f2e7726-a4ef-4f0f-e7f6-0c02e897ec70"
      },
      "source": [
        "!pwd"
      ],
      "execution_count": 12,
      "outputs": [
        {
          "output_type": "stream",
          "text": [
            "/content/Keras_DeepLearning\n"
          ],
          "name": "stdout"
        }
      ]
    },
    {
      "cell_type": "markdown",
      "metadata": {
        "id": "xT9Qsx0GP6OD",
        "colab_type": "text"
      },
      "source": [
        "최종적으로 !python3 keras_cifar10.py 명령어를 실행하여 코드를 진행시킵니다."
      ]
    },
    {
      "cell_type": "code",
      "metadata": {
        "id": "r3gDa6A9OhOr",
        "colab_type": "code",
        "colab": {
          "base_uri": "https://localhost:8080/",
          "height": 485
        },
        "outputId": "e450cddd-2895-4071-ec51-b00fabd8aad2"
      },
      "source": [
        "!python3 keras_cifar10.py"
      ],
      "execution_count": 14,
      "outputs": [
        {
          "output_type": "stream",
          "text": [
            "Using TensorFlow backend.\n",
            "Downloading data from https://www.cs.toronto.edu/~kriz/cifar-10-python.tar.gz\n",
            "170500096/170498071 [==============================] - 41s 0us/step\n",
            "x_train shape: (50000, 32, 32, 3)\n",
            "50000 train samples\n",
            "10000 test samples\n",
            "WARNING:tensorflow:From /usr/local/lib/python3.6/dist-packages/tensorflow/python/framework/op_def_library.py:263: colocate_with (from tensorflow.python.framework.ops) is deprecated and will be removed in a future version.\n",
            "Instructions for updating:\n",
            "Colocations handled automatically by placer.\n",
            "WARNING:tensorflow:From /usr/local/lib/python3.6/dist-packages/keras/backend/tensorflow_backend.py:3445: calling dropout (from tensorflow.python.ops.nn_ops) with keep_prob is deprecated and will be removed in a future version.\n",
            "Instructions for updating:\n",
            "Please use `rate` instead of `keep_prob`. Rate should be set to `rate = 1 - keep_prob`.\n",
            "Using real-time data augmentation.\n",
            "WARNING:tensorflow:From /usr/local/lib/python3.6/dist-packages/tensorflow/python/ops/math_ops.py:3066: to_int32 (from tensorflow.python.ops.math_ops) is deprecated and will be removed in a future version.\n",
            "Instructions for updating:\n",
            "Use tf.cast instead.\n",
            "Traceback (most recent call last):\n",
            "  File \"keras_cifar10.py\", line 112, in <module>\n",
            "    workers=4)\n",
            "  File \"/usr/local/lib/python3.6/dist-packages/keras/legacy/interfaces.py\", line 91, in wrapper\n",
            "    return func(*args, **kwargs)\n",
            "  File \"/usr/local/lib/python3.6/dist-packages/keras/engine/training.py\", line 1418, in fit_generator\n",
            "    initial_epoch=initial_epoch)\n",
            "  File \"/usr/local/lib/python3.6/dist-packages/keras/engine/training_generator.py\", line 55, in fit_generator\n",
            "    raise ValueError('`steps_per_epoch=None` is only valid for a'\n",
            "ValueError: `steps_per_epoch=None` is only valid for a generator based on the `keras.utils.Sequence` class. Please specify `steps_per_epoch` or use the `keras.utils.Sequence` class.\n"
          ],
          "name": "stdout"
        }
      ]
    },
    {
      "cell_type": "markdown",
      "metadata": {
        "id": "cT7pBjAcQBlb",
        "colab_type": "text"
      },
      "source": [
        "위의 코드는 에러를 가지고 있는 코드입니다.\n",
        "\n",
        "에러를 고치고 올바르게 수행된 코드의 최종 결과물을 Report 하기 바랍니다."
      ]
    },
    {
      "cell_type": "code",
      "metadata": {
        "id": "xxEu2AhxPFqd",
        "colab_type": "code",
        "colab": {}
      },
      "source": [
        ""
      ],
      "execution_count": 0,
      "outputs": []
    }
  ]
}